{
  "nbformat": 4,
  "nbformat_minor": 0,
  "metadata": {
    "colab": {
      "name": "convolutional_recommender_2.ipynb",
      "provenance": [],
      "collapsed_sections": [],
      "authorship_tag": "ABX9TyNfHcUM1dYbbeETIDEADyTI",
      "include_colab_link": true
    },
    "kernelspec": {
      "name": "python3",
      "display_name": "Python 3"
    },
    "language_info": {
      "name": "python"
    }
  },
  "cells": [
    {
      "cell_type": "markdown",
      "metadata": {
        "id": "view-in-github",
        "colab_type": "text"
      },
      "source": [
        "<a href=\"https://colab.research.google.com/github/malinphy/recommender_sys/blob/main/convolutional_recommender_2.ipynb\" target=\"_parent\"><img src=\"https://colab.research.google.com/assets/colab-badge.svg\" alt=\"Open In Colab\"/></a>"
      ]
    },
    {
      "cell_type": "code",
      "execution_count": 1,
      "metadata": {
        "id": "GbD_qB3AQpnV"
      },
      "outputs": [],
      "source": [
        "!pip install --quiet d2l==0.17.0 ;\n",
        "!pip install --quiet -U mxnet-cu101==1.7.0 ;\n",
        "!pip install --quiet tensorflow-datasets ;\n",
        "import numpy as np \n",
        "import pandas as pd \n",
        "import matplotlib.pyplot as plt \n",
        "import random \n",
        "import random\n",
        "import mxnet as mx\n",
        "from mxnet import gluon, np, npx\n",
        "from mxnet.gluon import nn\n",
        "from d2l import mxnet as d2l\n",
        "# import tensorflow_datasets as tfds\n",
        "\n",
        "import tensorflow as tf \n",
        "from tensorflow import keras \n",
        "# from tensorflow.keras import Sequential\n",
        "from tensorflow.keras import layers \n",
        "from tensorflow.keras.layers import Dense\n",
        "from tensorflow.keras.layers import Embedding\n",
        "from tensorflow.keras.layers import Conv1D\n",
        "from tensorflow.keras.layers import Conv2D\n",
        "from tensorflow.keras.layers import MaxPool2D\n",
        "from tensorflow.keras.layers import MaxPool1D\n",
        "from tensorflow.keras.layers import Dropout,Lambda"
      ]
    },
    {
      "cell_type": "code",
      "source": [
        "TARGET_NUM = 1\n",
        "batch_size = 4096\n",
        "L=5\n",
        "d=16\n",
        "d_prime=4 \n",
        "drop_ratio=0.05\n",
        "num_factors= 10\n",
        "num_users =943\n",
        "num_items =1682"
      ],
      "metadata": {
        "id": "MhXGb0HeTQiE"
      },
      "execution_count": 2,
      "outputs": []
    },
    {
      "cell_type": "code",
      "source": [
        "class SeqDataset(gluon.data.Dataset):\n",
        "    def __init__(self, user_ids, item_ids, L, num_users, num_items,\n",
        "                 candidates):\n",
        "        user_ids, item_ids = np.array(user_ids), np.array(item_ids)\n",
        "        sort_idx = np.array(\n",
        "            sorted(range(len(user_ids)), key=lambda k: user_ids[k]))\n",
        "        u_ids, i_ids = user_ids[sort_idx], item_ids[sort_idx]\n",
        "        temp, u_ids, self.cand = {}, u_ids.asnumpy(), candidates\n",
        "        self.all_items = set([i for i in range(num_items)])\n",
        "        [temp.setdefault(u_ids[i], []).append(i) for i, _ in enumerate(u_ids)]\n",
        "        temp = sorted(temp.items(), key=lambda x: x[0])\n",
        "        u_ids = np.array([i[0] for i in temp])\n",
        "        idx = np.array([i[1][0] for i in temp])\n",
        "        self.ns = ns = int(\n",
        "            sum([\n",
        "                c - L if c >= L + 1 else 1\n",
        "                for c in np.array([len(i[1]) for i in temp])]))\n",
        "        self.seq_items = np.zeros((ns, L))\n",
        "        self.seq_users = np.zeros(ns, dtype='int32')\n",
        "        self.seq_tgt = np.zeros((ns, 1))\n",
        "        self.test_seq = np.zeros((num_users, L))\n",
        "        test_users, _uid = np.empty(num_users), None\n",
        "        for i, (uid, i_seq) in enumerate(self._seq(u_ids, i_ids, idx, L + 1)):\n",
        "            if uid != _uid:\n",
        "                self.test_seq[uid][:] = i_seq[-L:]\n",
        "                test_users[uid], _uid = uid, uid\n",
        "            self.seq_tgt[i][:] = i_seq[-1:]\n",
        "            self.seq_items[i][:], self.seq_users[i] = i_seq[:L], uid\n",
        "\n",
        "    def _win(self, tensor, window_size, step_size=1):\n",
        "        if len(tensor) - window_size >= 0:\n",
        "            for i in range(len(tensor), 0, -step_size):\n",
        "                if i - window_size >= 0:\n",
        "                    yield tensor[i - window_size:i]\n",
        "                else:\n",
        "                    break\n",
        "        else:\n",
        "            yield tensor\n",
        "\n",
        "    def _seq(self, u_ids, i_ids, idx, max_len):\n",
        "        for i in range(len(idx)):\n",
        "            stop_idx = None if i >= len(idx) - 1 else int(idx[i + 1])\n",
        "            for s in self._win(i_ids[int(idx[i]):stop_idx], max_len):\n",
        "                yield (int(u_ids[i]), s)\n",
        "\n",
        "    def __len__(self):\n",
        "        return self.ns\n",
        "\n",
        "    def __getitem__(self, idx):\n",
        "        neg = list(self.all_items - set(self.cand[int(self.seq_users[idx])]))\n",
        "        i = random.randint(0, len(neg) - 1)\n",
        "        return (self.seq_users[idx], self.seq_items[idx], self.seq_tgt[idx],\n",
        "                neg[i])"
      ],
      "metadata": {
        "id": "rQgHDkdzQ8Ic"
      },
      "execution_count": 3,
      "outputs": []
    },
    {
      "cell_type": "code",
      "source": [
        "TARGET_NUM, L, batch_size = 1, 5, 4096\n",
        "df, num_users, num_items = d2l.read_data_ml100k()\n",
        "train_data, test_data = d2l.split_data_ml100k(df, num_users, num_items,\n",
        "                                              'seq-aware')\n",
        "users_train, items_train, ratings_train, candidates = d2l.load_data_ml100k(\n",
        "    train_data, num_users, num_items, feedback=\"implicit\")\n",
        "users_test, items_test, ratings_test, test_iter = d2l.load_data_ml100k(\n",
        "    test_data, num_users, num_items, feedback=\"implicit\")\n",
        "train_seq_data = SeqDataset(users_train, items_train, L, num_users, num_items,\n",
        "                            candidates)\n",
        "train_iter = gluon.data.DataLoader(train_seq_data, batch_size, True,\n",
        "                                   last_batch=\"rollover\",\n",
        "                                   num_workers=d2l.get_dataloader_workers())\n",
        "test_seq_iter = train_seq_data.test_seq\n",
        "train_seq_data[0]\n"
      ],
      "metadata": {
        "colab": {
          "base_uri": "https://localhost:8080/"
        },
        "id": "JXnE_1wNRxLp",
        "outputId": "c1398b0c-f88c-465b-8153-349a1cd304e7"
      },
      "execution_count": 4,
      "outputs": [
        {
          "output_type": "execute_result",
          "data": {
            "text/plain": [
              "(array([0], dtype=int32),\n",
              " array([241., 170., 110., 255.,   4.]),\n",
              " array([101.]),\n",
              " 504)"
            ]
          },
          "metadata": {},
          "execution_count": 4
        }
      ]
    },
    {
      "cell_type": "code",
      "source": [
        "pos_1 = []\n",
        "pos_2 = []\n",
        "pos_3 = []\n",
        "pos_4 = []\n",
        "for i in train_seq_data:\n",
        "  pos_1.append(int(i[0]) )\n",
        "  pos_2.append((i[1]) )\n",
        "  pos_3.append(int(i[2]))\n",
        "  pos_4.append(int(i[3]))\n",
        "# I believe, in this part seq variable or input is obvious,\n",
        "# output is single number in the array\n",
        "\n",
        "def expander(x):\n",
        "    return (tf.reshape(x,shape= [x.shape[0],x.shape[1],x.shape[2],1], name=None))\n",
        "    \n",
        "def seqer(x):\n",
        "    return (tf.squeeze(x, axis=2))\n"
      ],
      "metadata": {
        "id": "bJk5IotHUMoU"
      },
      "execution_count": 5,
      "outputs": []
    },
    {
      "cell_type": "code",
      "source": [
        "big_arr = []\n",
        "for i in range(len(pos_2)):\n",
        "  x = pos_2[i]\n",
        "  small_arr = []\n",
        "  for j in x:\n",
        "    # print(int(j))\n",
        "    small_arr.append(int(j))\n",
        "  big_arr.append(small_arr)"
      ],
      "metadata": {
        "id": "6MBqYdfE-x1V"
      },
      "execution_count": 6,
      "outputs": []
    },
    {
      "cell_type": "code",
      "source": [
        "np.array(big_arr, dtype= 'int32')"
      ],
      "metadata": {
        "colab": {
          "base_uri": "https://localhost:8080/"
        },
        "id": "toiJHo6pFWOj",
        "outputId": "0c8e2ecc-7802-4a7e-b0f2-0e334b7e661b"
      },
      "execution_count": 7,
      "outputs": [
        {
          "output_type": "execute_result",
          "data": {
            "text/plain": [
              "array([[ 241,  170,  110,  255,    4],\n",
              "       [ 188,  241,  170,  110,  255],\n",
              "       [  31,  188,  241,  170,  110],\n",
              "       ...,\n",
              "       [  27,  173,   99, 1066,  126],\n",
              "       [ 180,   27,  173,   99, 1066],\n",
              "       [  63,  180,   27,  173,   99]], dtype=int32)"
            ]
          },
          "metadata": {},
          "execution_count": 7
        }
      ]
    },
    {
      "cell_type": "code",
      "source": [
        "class Caser(nn.Block):\n",
        "    def __init__(self, num_factors, num_users, num_items, L=5, d=16,\n",
        "                 d_prime=4, drop_ratio=0.05, **kwargs):\n",
        "        super(Caser, self).__init__(**kwargs)\n",
        "        self.P = Embedding(num_users, num_factors)\n",
        "        self.Q = Embedding(num_items, num_factors)\n",
        "        self.d_prime, self.d = d_prime, d\n",
        "        # Vertical convolution layer\n",
        "        self.conv_v = nn.Conv2D(d_prime, (L, 1), in_channels=1)\n",
        "        # Horizontal convolution layer\n",
        "        h = [i + 1 for i in range(L)]\n",
        "        self.conv_h, self.max_pool = nn.Sequential(), nn.Sequential()\n",
        "        for i in h:\n",
        "            self.conv_h.add(nn.Conv2D(d, (i, num_factors), in_channels=1))\n",
        "            self.max_pool.add(nn.MaxPool1D(L - i + 1))\n",
        "        # Fully-connected layer\n",
        "        self.fc1_dim_v, self.fc1_dim_h = d_prime * num_factors, d * len(h)\n",
        "        self.fc = nn.Dense(in_units=d_prime * num_factors + d * L,\n",
        "                           activation='relu', units=num_factors)\n",
        "        self.Q_prime = nn.Embedding(num_items, num_factors * 2)\n",
        "        self.b = nn.Embedding(num_items, 1)\n",
        "        self.dropout = nn.Dropout(drop_ratio)\n",
        "\n",
        "    def forward(self, user_id, seq, item_id):\n",
        "        h = [i + 1 for i in range(L)]\n",
        "        # item_embs = np.expand_dims(self.Q(seq), 1)\n",
        "        item_embs = self.Q(seq)\n",
        "        user_emb = self.P(user_id)\n",
        "        out, out_h, out_v, out_hs = None, None, None, []\n",
        "        if self.d_prime:\n",
        "            # out_v = self.conv_v(item_embs)\n",
        "            out_v = Conv2D(d_prime, (L, 1))(expander(item_embs))\n",
        "            out_v = out_v.reshape(out_v.shape[0], self.fc1_dim_v)\n",
        "\n",
        "        # if self.d_prime:\n",
        "        #     out_v = self.conv_v(item_embs)\n",
        "        #     out_v = out_v.reshape(out_v.shape[0], self.fc1_dim_v)\n",
        "        if self.d:\n",
        "            \n",
        "            for i in h:\n",
        "              linear_model = tf.keras.Sequential([\n",
        "              Lambda(expander),\n",
        "              Conv2D(d, (i, num_factors), activation = 'relu'),\n",
        "              Lambda(seqer),\n",
        "              MaxPool1D(L-i+1)\n",
        "              ])\n",
        "              out_hs.append(linear_model(item_embs))\n",
        "            out_h = tf.concat(out_hs, axis=1)\n",
        "        out_h = tf.reshape(out_h, [out_h.shape[0], out_h.shape[1]*out_h.shape[2] ])\n",
        "        out = np.concatenate([out_v, out_h], axis=1)\n",
        "        z = self.fc(self.dropout(out))\n",
        "        x = np.concatenate([z, user_emb], axis=1)\n",
        "        q_prime_i = np.squeeze(self.Q_prime(item_id))\n",
        "        b = np.squeeze(self.b(item_id))\n",
        "        res = (x * q_prime_i).sum(1) + b\n",
        "        return res\n"
      ],
      "metadata": {
        "id": "B5og_GTlRzS7"
      },
      "execution_count": 52,
      "outputs": []
    },
    {
      "cell_type": "code",
      "source": [
        "user_id = tf.keras.Input(shape= (), dtype = 'float64')\n",
        "seq = tf.keras.Input(shape= (), dtype = 'float64')\n",
        "item_id = tf.keras.Input(shape= (), dtype = 'float64')"
      ],
      "metadata": {
        "id": "rFkCCwnwLj_l"
      },
      "execution_count": 53,
      "outputs": []
    },
    {
      "cell_type": "code",
      "source": [
        "# targets = Caser(num_factors = 10,\n",
        "#       num_users = 943, \n",
        "#       num_items = 1682, \n",
        "#       L=5, \n",
        "#       d=16,\n",
        "#       d_prime=4, \n",
        "#       drop_ratio=0.05)(user_id,seq, item_id)\n",
        "\n",
        "# # caser_model = tf.keras.Model(inputs = [user_id,seq,item_id], outputs = res)"
      ],
      "metadata": {
        "id": "TfWb9G6uMZtm"
      },
      "execution_count": 56,
      "outputs": []
    },
    {
      "cell_type": "code",
      "source": [
        "caser_model.compile(\n",
        "    optimizer = tf.keras.optimizers.Adam(\n",
        "    learning_rate=0.001, beta_1=0.9, beta_2=0.999,\n",
        "    # epsilon=1e-07,\n",
        "    # amsgrad=False,\n",
        "    # name='Adam'), \n",
        "    ),\n",
        "    loss=tf.keras.losses.Hinge(), \n",
        "    # loss = \n",
        "    metrics=[\"accuracy\"]\n",
        ")"
      ],
      "metadata": {
        "id": "0AiIYiRLNxuI"
      },
      "execution_count": null,
      "outputs": []
    },
    {
      "cell_type": "code",
      "source": [
        ""
      ],
      "metadata": {
        "id": "YUUUPmxsicg-"
      },
      "execution_count": 55,
      "outputs": []
    },
    {
      "cell_type": "code",
      "source": [
        "caser_model.fit(([tf.constant(pos_1),tf.constant(big_arr),\n",
        "                  tf.constant(pos_3)]),\n",
        "                 tf.constant(pos_4),\n",
        "                epochs =1,\n",
        "                # batch_size = 5\n",
        "                )"
      ],
      "metadata": {
        "id": "u3yOs7fYPbOH"
      },
      "execution_count": null,
      "outputs": []
    },
    {
      "cell_type": "code",
      "source": [
        "  model = tf.keras.Sequential([\n",
        "     tf.keras.layers.Dense(3, activation = \"relu\", name = \"firstLayer\"),\n",
        "     tf.keras.layers.Dense(4, activation = \"tanh\", name = \"secondLayer\"),\n",
        "     tf.keras.layers.Dense(2, name = \"lastLayer\"),\n",
        "  ])\n",
        "\n",
        "  # Create a input and pass it to model\n",
        "  # input = tf.random.normal((3, 4))\n",
        "  # output = model(input)"
      ],
      "metadata": {
        "id": "X0YpvGjOgNzF"
      },
      "execution_count": null,
      "outputs": []
    },
    {
      "cell_type": "code",
      "source": [
        "print(model.weights)"
      ],
      "metadata": {
        "id": "JsLI6DOSO5ti"
      },
      "execution_count": null,
      "outputs": []
    },
    {
      "cell_type": "code",
      "source": [
        "deneme = tf.constant([[1,2,3],[1,2,3]])\n",
        "deneme"
      ],
      "metadata": {
        "id": "1dAO-CJ4O9L3"
      },
      "execution_count": null,
      "outputs": []
    },
    {
      "cell_type": "code",
      "source": [
        "deneme = (deneme[tf.newaxis,:])"
      ],
      "metadata": {
        "id": "qG8eSKo7gemw"
      },
      "execution_count": null,
      "outputs": []
    },
    {
      "cell_type": "code",
      "source": [
        "deneme"
      ],
      "metadata": {
        "id": "do4sCFHQg31l"
      },
      "execution_count": null,
      "outputs": []
    },
    {
      "cell_type": "code",
      "source": [
        "letters = ['a', 'b', 'c']\n",
        "numbers = [0, 1, 2]\n",
        "for l, n in zip(letters, numbers):\n",
        "     print(f'Letter: {l}',f'Number: {n}')\n",
        "    #  print(f'Number: {n}')\n"
      ],
      "metadata": {
        "id": "9vuSB-I2hBsA"
      },
      "execution_count": null,
      "outputs": []
    },
    {
      "cell_type": "code",
      "source": [
        ""
      ],
      "metadata": {
        "id": "oH_C5UJLjOco"
      },
      "execution_count": null,
      "outputs": []
    }
  ]
}