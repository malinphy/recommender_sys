{
  "cells": [
    {
      "cell_type": "markdown",
      "metadata": {
        "id": "view-in-github",
        "colab_type": "text"
      },
      "source": [
        "<a href=\"https://colab.research.google.com/github/malinphy/recommender_sys/blob/main/convolutional_recommender_2.ipynb\" target=\"_parent\"><img src=\"https://colab.research.google.com/assets/colab-badge.svg\" alt=\"Open In Colab\"/></a>"
      ]
    },
    {
      "cell_type": "code",
      "execution_count": null,
      "metadata": {
        "id": "GbD_qB3AQpnV",
        "colab": {
          "base_uri": "https://localhost:8080/"
        },
        "outputId": "79ad6d8e-cdc3-41e7-8c88-4d5b6294e633"
      },
      "outputs": [
        {
          "output_type": "stream",
          "name": "stdout",
          "text": [
            "\u001b[K     |████████████████████████████████| 83 kB 1.0 MB/s \n",
            "\u001b[K     |███████████████████████████████▌| 834.1 MB 1.2 MB/s eta 0:00:10tcmalloc: large alloc 1147494400 bytes == 0x560943850000 @  0x7f257294e615 0x56090a5144cc 0x56090a5f447a 0x56090a5172ed 0x56090a608e1d 0x56090a58ae99 0x56090a5859ee 0x56090a518bda 0x56090a58ad00 0x56090a5859ee 0x56090a518bda 0x56090a587737 0x56090a609c66 0x56090a586daf 0x56090a609c66 0x56090a586daf 0x56090a609c66 0x56090a586daf 0x56090a519039 0x56090a55c409 0x56090a517c52 0x56090a58ac25 0x56090a5859ee 0x56090a518bda 0x56090a587737 0x56090a5859ee 0x56090a518bda 0x56090a586915 0x56090a518afa 0x56090a586c0d 0x56090a5859ee\n",
            "\u001b[K     |████████████████████████████████| 846.0 MB 20 kB/s \n",
            "\u001b[?25h"
          ]
        }
      ],
      "source": [
        "!pip install --quiet d2l==0.17.0 ;\n",
        "!pip install --quiet -U mxnet-cu101==1.7.0 ;\n",
        "!pip install --quiet tensorflow-datasets ;\n",
        "import numpy as np \n",
        "import pandas as pd \n",
        "import matplotlib.pyplot as plt \n",
        "import random \n",
        "import random\n",
        "import mxnet as mx\n",
        "from mxnet import gluon, np, npx\n",
        "from mxnet.gluon import nn\n",
        "from d2l import mxnet as d2l\n",
        "# import tensorflow_datasets as tfds\n",
        "\n",
        "import tensorflow as tf \n",
        "from tensorflow import keras \n",
        "# from tensorflow.keras import Sequential\n",
        "from tensorflow.keras import layers \n",
        "from tensorflow.keras.layers import Dense\n",
        "from tensorflow.keras.layers import Embedding\n",
        "from tensorflow.keras.layers import Conv1D\n",
        "from tensorflow.keras.layers import Conv2D\n",
        "from tensorflow.keras.layers import MaxPool2D\n",
        "from tensorflow.keras.layers import MaxPool1D\n",
        "from tensorflow.keras.layers import Dropout,Lambda"
      ]
    },
    {
      "cell_type": "code",
      "execution_count": null,
      "metadata": {
        "id": "MhXGb0HeTQiE"
      },
      "outputs": [],
      "source": [
        "TARGET_NUM = 1\n",
        "batch_size = 4096\n",
        "L=5\n",
        "d=16\n",
        "d_prime=4 \n",
        "drop_ratio=0.05\n",
        "num_factors= 10\n",
        "num_users =943\n",
        "num_items =1682"
      ]
    },
    {
      "cell_type": "code",
      "execution_count": null,
      "metadata": {
        "id": "rQgHDkdzQ8Ic"
      },
      "outputs": [],
      "source": [
        "class SeqDataset(gluon.data.Dataset):\n",
        "    def __init__(self, user_ids, item_ids, L, num_users, num_items,\n",
        "                 candidates):\n",
        "        user_ids, item_ids = np.array(user_ids), np.array(item_ids)\n",
        "        sort_idx = np.array(\n",
        "            sorted(range(len(user_ids)), key=lambda k: user_ids[k]))\n",
        "        u_ids, i_ids = user_ids[sort_idx], item_ids[sort_idx]\n",
        "        temp, u_ids, self.cand = {}, u_ids.asnumpy(), candidates\n",
        "        self.all_items = set([i for i in range(num_items)])\n",
        "        [temp.setdefault(u_ids[i], []).append(i) for i, _ in enumerate(u_ids)]\n",
        "        temp = sorted(temp.items(), key=lambda x: x[0])\n",
        "        u_ids = np.array([i[0] for i in temp])\n",
        "        idx = np.array([i[1][0] for i in temp])\n",
        "        self.ns = ns = int(\n",
        "            sum([\n",
        "                c - L if c >= L + 1 else 1\n",
        "                for c in np.array([len(i[1]) for i in temp])]))\n",
        "        self.seq_items = np.zeros((ns, L))\n",
        "        self.seq_users = np.zeros(ns, dtype='int32')\n",
        "        self.seq_tgt = np.zeros((ns, 1))\n",
        "        self.test_seq = np.zeros((num_users, L))\n",
        "        test_users, _uid = np.empty(num_users), None\n",
        "        for i, (uid, i_seq) in enumerate(self._seq(u_ids, i_ids, idx, L + 1)):\n",
        "            if uid != _uid:\n",
        "                self.test_seq[uid][:] = i_seq[-L:]\n",
        "                test_users[uid], _uid = uid, uid\n",
        "            self.seq_tgt[i][:] = i_seq[-1:]\n",
        "            self.seq_items[i][:], self.seq_users[i] = i_seq[:L], uid\n",
        "\n",
        "    def _win(self, tensor, window_size, step_size=1):\n",
        "        if len(tensor) - window_size >= 0:\n",
        "            for i in range(len(tensor), 0, -step_size):\n",
        "                if i - window_size >= 0:\n",
        "                    yield tensor[i - window_size:i]\n",
        "                else:\n",
        "                    break\n",
        "        else:\n",
        "            yield tensor\n",
        "\n",
        "    def _seq(self, u_ids, i_ids, idx, max_len):\n",
        "        for i in range(len(idx)):\n",
        "            stop_idx = None if i >= len(idx) - 1 else int(idx[i + 1])\n",
        "            for s in self._win(i_ids[int(idx[i]):stop_idx], max_len):\n",
        "                yield (int(u_ids[i]), s)\n",
        "\n",
        "    def __len__(self):\n",
        "        return self.ns\n",
        "\n",
        "    def __getitem__(self, idx):\n",
        "        neg = list(self.all_items - set(self.cand[int(self.seq_users[idx])]))\n",
        "        i = random.randint(0, len(neg) - 1)\n",
        "        return (self.seq_users[idx], self.seq_items[idx], self.seq_tgt[idx],\n",
        "                neg[i])"
      ]
    },
    {
      "cell_type": "code",
      "execution_count": null,
      "metadata": {
        "colab": {
          "base_uri": "https://localhost:8080/"
        },
        "id": "JXnE_1wNRxLp",
        "outputId": "a8f4168d-4794-413f-e009-bdaba0f553fa"
      },
      "outputs": [
        {
          "output_type": "stream",
          "name": "stdout",
          "text": [
            "Downloading ../data/ml-100k.zip from http://files.grouplens.org/datasets/movielens/ml-100k.zip...\n"
          ]
        },
        {
          "output_type": "execute_result",
          "data": {
            "text/plain": [
              "(array([0], dtype=int32),\n",
              " array([241., 170., 110., 255.,   4.]),\n",
              " array([101.]),\n",
              " 971)"
            ]
          },
          "metadata": {},
          "execution_count": 4
        }
      ],
      "source": [
        "TARGET_NUM, L, batch_size = 1, 5, 4096\n",
        "df, num_users, num_items = d2l.read_data_ml100k()\n",
        "train_data, test_data = d2l.split_data_ml100k(df, num_users, num_items,\n",
        "                                              'seq-aware')\n",
        "users_train, items_train, ratings_train, candidates = d2l.load_data_ml100k(\n",
        "    train_data, num_users, num_items, feedback=\"implicit\")\n",
        "users_test, items_test, ratings_test, test_iter = d2l.load_data_ml100k(\n",
        "    test_data, num_users, num_items, feedback=\"implicit\")\n",
        "train_seq_data = SeqDataset(users_train, items_train, L, num_users, num_items,\n",
        "                            candidates)\n",
        "train_iter = gluon.data.DataLoader(train_seq_data, batch_size, True,\n",
        "                                   last_batch=\"rollover\",\n",
        "                                   num_workers=d2l.get_dataloader_workers())\n",
        "test_seq_iter = train_seq_data.test_seq\n",
        "train_seq_data[0]\n"
      ]
    },
    {
      "cell_type": "code",
      "execution_count": null,
      "metadata": {
        "id": "bJk5IotHUMoU"
      },
      "outputs": [],
      "source": [
        "pos_1 = []\n",
        "pos_2 = []\n",
        "pos_3 = []\n",
        "pos_4 = []\n",
        "for i in train_seq_data:\n",
        "  pos_1.append(int(i[0]) )\n",
        "  pos_2.append((i[1]) )\n",
        "  pos_3.append(int(i[2]))\n",
        "  pos_4.append(int(i[3]))\n",
        "# I believe, in this part seq variable or input is obvious,\n",
        "# output is single number in the array\n",
        "\n",
        "def expander(x):\n",
        "    return (tf.reshape(x,shape= [x.shape[0],x.shape[1],x.shape[2],1], name=None))\n",
        "    \n",
        "def seqer(x):\n",
        "    return (tf.squeeze(x, axis=2))\n"
      ]
    },
    {
      "cell_type": "code",
      "execution_count": null,
      "metadata": {
        "id": "6MBqYdfE-x1V"
      },
      "outputs": [],
      "source": [
        "big_arr = []\n",
        "for i in range(len(pos_2)):\n",
        "  x = pos_2[i]\n",
        "  small_arr = []\n",
        "  for j in x:\n",
        "    # print(int(j))\n",
        "    small_arr.append(int(j))\n",
        "  big_arr.append(small_arr)"
      ]
    },
    {
      "cell_type": "code",
      "execution_count": null,
      "metadata": {
        "colab": {
          "base_uri": "https://localhost:8080/"
        },
        "id": "toiJHo6pFWOj",
        "outputId": "14bda160-4dd8-4c19-d07a-e67b85110cef"
      },
      "outputs": [
        {
          "output_type": "execute_result",
          "data": {
            "text/plain": [
              "94342"
            ]
          },
          "metadata": {},
          "execution_count": 7
        }
      ],
      "source": [
        "len(pos_4)"
      ]
    },
    {
      "cell_type": "code",
      "execution_count": null,
      "metadata": {
        "id": "B5og_GTlRzS7"
      },
      "outputs": [],
      "source": [
        "# class Caser(nn.Block):\n",
        "class Caser(tf.keras.Model):\n",
        "    def __init__(self, num_factors, num_users, num_items, L=5, d=16,\n",
        "                 d_prime=4, drop_ratio=0.05, **kwargs):\n",
        "        super(Caser, self).__init__(**kwargs)\n",
        "        self.P = Embedding(num_users, num_factors)\n",
        "        self.Q = Embedding(num_items, num_factors)\n",
        "        self.d_prime = d_prime\n",
        "        self.d =  d\n",
        "        # Vertical convolution layer\n",
        "        # self.conv_v = nn.Conv2D(d_prime, (L, 1), in_channels=1)\n",
        "        self.conv_v = tf.keras.layers.Conv2D(d_prime,(L,1))\n",
        "        # Horizontal convolution layer\n",
        "        h = [i + 1 for i in range(L)]\n",
        "        # self.conv_h, self.max_pool = nn.Sequential(), nn.Sequential()\n",
        "        # for i in h:\n",
        "        #     self.conv_h.add(nn.Conv2D(d, (i, num_factors), in_channels=1))\n",
        "        #     self.max_pool.add(nn.MaxPool1D(L - i + 1))\n",
        "        # Fully-connected layer\n",
        "        self.fc1_dim_v = d_prime * num_factors\n",
        "        self.fc1_dim_h = d * len(h)\n",
        "        # self.fc = Dense(d_prime * num_factors + d * L,\n",
        "        #                    activation='relu')\n",
        "        self.fc = Dense(num_factors, activation = 'relu')\n",
        "        self.Q_prime = Embedding(num_items, num_factors * 2)\n",
        "        self.b = Embedding(num_items, 1)\n",
        "        self.dropout = Dropout(drop_ratio)\n",
        "        def third_expander(x):\n",
        "            y = x[:,:,:,tf.newaxis]\n",
        "            return(y)\n",
        "\n",
        "        def third_seqer(x):\n",
        "            y = tf.squeeze(x, axis = 2)\n",
        "            return(y)\n",
        "\n",
        "        self.expander = tf.keras.layers.Lambda(third_expander)\n",
        "        self.seqer = tf.keras.layers.Lambda(third_seqer)\n",
        "    def call(self, user_id, seq, item_id):\n",
        "        h = [i + 1 for i in range(L)]\n",
        "        # item_embs = np.expand_dims(self.Q(seq), 1)\n",
        "        item_embs = self.Q(seq)\n",
        "        user_emb = self.P(user_id)\n",
        "        out, out_h, out_v, out_hs = None, None, None, []\n",
        "        if self.d_prime:\n",
        "            out_v = self.expander(item_embs)\n",
        "            out_v = self.conv_v(out_v)\n",
        "            print('ilk out_v',out_v.shape)\n",
        "            # out_v = out_v.reshape(out_v.shape[0], self.fc1_dim_v)\n",
        "            out_v = tf.reshape(out_v, shape = (out_v.shape[1], self.fc1_dim_v))\n",
        "        if self.d:\n",
        "            for i in h:\n",
        "              seq_model_L = tf.keras.Sequential([\n",
        "                self.expander,\n",
        "                tf.keras.layers.Conv2D(d,(i,num_factors)),\n",
        "                self.seqer,\n",
        "                tf.keras.layers.MaxPool1D(L - i +1)\n",
        "                  ])\n",
        "            # for i in h :\n",
        "\n",
        "              \n",
        "              out_hs.append(seq_model_L(item_embs))\n",
        "\n",
        "            # for conv, maxp in zip(self.conv_h, self.max_pool):\n",
        "            #     conv_out = np.squeeze(npx.relu(conv(item_embs)), axis=3)\n",
        "            #     t = maxp(conv_out)\n",
        "            #     pool_out = np.squeeze(t, axis=2)\n",
        "            #     out_hs.append(pool_out)\n",
        "            out_h = tf.concat(out_hs, axis=1)\n",
        "        print('out_v', out_v.shape)\n",
        "        print('out_h', out_h.shape)\n",
        "        out_h =tf.reshape(out_h, shape=([1, out_h.shape[1]*out_h.shape[2]]))\n",
        "        print('son_out_h', out_h.shape)\n",
        "        out = tf.concat([out_v, out_h], axis=1)\n",
        "        print('deneme_2')\n",
        "        z = self.fc(self.dropout(out))\n",
        "        print('z shape', z.shape)\n",
        "        print('user_emb shape', user_emb.shape)\n",
        "        user_emb = tf.reshape(user_emb, [1,user_emb.shape[1]*user_emb.shape[2]])\n",
        "        # user_emb = tf.squeeze(user_emb, [user_emb.shape[-2], user_emb.shape[-1]])\n",
        "        x = tf.concat([z, user_emb], axis=1)\n",
        "        print('concat')\n",
        "        item_embs = self.Q_prime(item_id)\n",
        "        print('item_Embs_shpa', item_embs.shape)\n",
        "        q_prime_i = tf.reshape(item_embs, [1,item_embs.shape[1]*item_embs.shape[2]])\n",
        "        # q_prime_i = np.squeeze(item_embs)\n",
        "        print('sondan bir')\n",
        "        id_embs = self.b(item_id)\n",
        "        b = tf.reshape(id_embs, [1,id_embs.shape[1]*id_embs.shape[2]])\n",
        "        # b = np.squeeze(self.b(item_id))\n",
        "        print('son')\n",
        "        print('X shape', x.shape)\n",
        "        print('q_prime_i shape', q_prime_i.shape)\n",
        "        print('b shape', b.shape)\n",
        "        # res = (x * q_prime_i).sum(1) + b\n",
        "        res = tf.reduce_sum(x*q_prime_i, 1) +b\n",
        "        return res\n"
      ]
    },
    {
      "cell_type": "code",
      "execution_count": null,
      "metadata": {
        "id": "rFkCCwnwLj_l"
      },
      "outputs": [],
      "source": [
        "user_id = tf.keras.Input(shape= (1), dtype = 'float64')\n",
        "seq = tf.keras.Input(shape= (5), dtype = 'float64')\n",
        "item_id = tf.keras.Input(shape= (1), dtype = 'float64')"
      ]
    },
    {
      "cell_type": "code",
      "execution_count": null,
      "metadata": {
        "id": "TfWb9G6uMZtm",
        "colab": {
          "base_uri": "https://localhost:8080/"
        },
        "outputId": "a8d3ce50-07e4-4d7a-af04-65e3ca4aac3f"
      },
      "outputs": [
        {
          "output_type": "stream",
          "name": "stdout",
          "text": [
            "ilk out_v (None, 1, 10, 4)\n",
            "out_v (1, 40)\n",
            "out_h (None, 5, 16)\n",
            "son_out_h (1, 80)\n",
            "deneme_2\n",
            "z shape (1, 10)\n",
            "user_emb shape (None, 1, 10)\n",
            "concat\n",
            "item_Embs_shpa (None, 1, 20)\n",
            "sondan bir\n",
            "son\n",
            "X shape (1, 20)\n",
            "q_prime_i shape (1, 20)\n",
            "b shape (1, 1)\n"
          ]
        }
      ],
      "source": [
        "targets = Caser(num_factors = 10,\n",
        "      num_users = 943, \n",
        "      num_items = 1682, \n",
        "      L=5, \n",
        "      d=16,\n",
        "      d_prime=4, \n",
        "      drop_ratio=0.05)(user_id,seq, item_id)\n",
        "\n",
        "caser_model = tf.keras.Model(inputs = [user_id,seq,item_id], outputs = targets)"
      ]
    },
    {
      "cell_type": "code",
      "source": [
        ""
      ],
      "metadata": {
        "id": "9Agc2mLInf3e"
      },
      "execution_count": null,
      "outputs": []
    },
    {
      "cell_type": "code",
      "execution_count": null,
      "metadata": {
        "id": "0AiIYiRLNxuI"
      },
      "outputs": [],
      "source": [
        "caser_model.compile(\n",
        "    optimizer = tf.keras.optimizers.Adam(\n",
        "    learning_rate=0.001, beta_1=0.9, beta_2=0.999,\n",
        "    # epsilon=1e-07,\n",
        "    # amsgrad=False,\n",
        "    # name='Adam'), \n",
        "    ),\n",
        "    loss=tf.keras.losses.Hinge(), \n",
        "    # loss = \n",
        "    metrics=[\"accuracy\"]\n",
        ")"
      ]
    },
    {
      "cell_type": "code",
      "execution_count": null,
      "metadata": {
        "id": "YUUUPmxsicg-"
      },
      "outputs": [],
      "source": [
        ""
      ]
    },
    {
      "cell_type": "code",
      "execution_count": null,
      "metadata": {
        "id": "u3yOs7fYPbOH",
        "colab": {
          "base_uri": "https://localhost:8080/",
          "height": 1000
        },
        "outputId": "07c78003-4ca0-4bf0-9df6-81e2d0539191"
      },
      "outputs": [
        {
          "output_type": "stream",
          "name": "stdout",
          "text": [
            "Epoch 1/10\n",
            "ilk out_v (None, 1, 10, 4)\n",
            "out_v (1, 40)\n",
            "out_h (None, 5, 16)\n",
            "son_out_h (1, 80)\n",
            "deneme_2\n",
            "z shape (1, 10)\n",
            "user_emb shape (None, 1, 10)\n",
            "concat\n",
            "item_Embs_shpa (None, 1, 20)\n",
            "sondan bir\n",
            "son\n",
            "X shape (1, 20)\n",
            "q_prime_i shape (1, 20)\n",
            "b shape (1, 1)\n",
            "ilk out_v (None, 1, 10, 4)\n"
          ]
        },
        {
          "output_type": "error",
          "ename": "ValueError",
          "evalue": "ignored",
          "traceback": [
            "\u001b[0;31m---------------------------------------------------------------------------\u001b[0m",
            "\u001b[0;31mValueError\u001b[0m                                Traceback (most recent call last)",
            "\u001b[0;32m<ipython-input-16-bfe7035bb76f>\u001b[0m in \u001b[0;36m<module>\u001b[0;34m()\u001b[0m\n\u001b[1;32m      2\u001b[0m                   tf.constant(pos_3)]),\n\u001b[1;32m      3\u001b[0m                  \u001b[0mtf\u001b[0m\u001b[0;34m.\u001b[0m\u001b[0mconstant\u001b[0m\u001b[0;34m(\u001b[0m\u001b[0mpos_4\u001b[0m\u001b[0;34m)\u001b[0m\u001b[0;34m,\u001b[0m\u001b[0;34m\u001b[0m\u001b[0;34m\u001b[0m\u001b[0m\n\u001b[0;32m----> 4\u001b[0;31m                 \u001b[0mepochs\u001b[0m \u001b[0;34m=\u001b[0m\u001b[0;36m10\u001b[0m\u001b[0;34m,\u001b[0m\u001b[0;34m\u001b[0m\u001b[0;34m\u001b[0m\u001b[0m\n\u001b[0m\u001b[1;32m      5\u001b[0m                 \u001b[0;31m# batch_size = 5\u001b[0m\u001b[0;34m\u001b[0m\u001b[0;34m\u001b[0m\u001b[0;34m\u001b[0m\u001b[0m\n\u001b[1;32m      6\u001b[0m                 )\n",
            "\u001b[0;32m/usr/local/lib/python3.7/dist-packages/keras/utils/traceback_utils.py\u001b[0m in \u001b[0;36merror_handler\u001b[0;34m(*args, **kwargs)\u001b[0m\n\u001b[1;32m     65\u001b[0m     \u001b[0;32mexcept\u001b[0m \u001b[0mException\u001b[0m \u001b[0;32mas\u001b[0m \u001b[0me\u001b[0m\u001b[0;34m:\u001b[0m  \u001b[0;31m# pylint: disable=broad-except\u001b[0m\u001b[0;34m\u001b[0m\u001b[0;34m\u001b[0m\u001b[0m\n\u001b[1;32m     66\u001b[0m       \u001b[0mfiltered_tb\u001b[0m \u001b[0;34m=\u001b[0m \u001b[0m_process_traceback_frames\u001b[0m\u001b[0;34m(\u001b[0m\u001b[0me\u001b[0m\u001b[0;34m.\u001b[0m\u001b[0m__traceback__\u001b[0m\u001b[0;34m)\u001b[0m\u001b[0;34m\u001b[0m\u001b[0;34m\u001b[0m\u001b[0m\n\u001b[0;32m---> 67\u001b[0;31m       \u001b[0;32mraise\u001b[0m \u001b[0me\u001b[0m\u001b[0;34m.\u001b[0m\u001b[0mwith_traceback\u001b[0m\u001b[0;34m(\u001b[0m\u001b[0mfiltered_tb\u001b[0m\u001b[0;34m)\u001b[0m \u001b[0;32mfrom\u001b[0m \u001b[0;32mNone\u001b[0m\u001b[0;34m\u001b[0m\u001b[0;34m\u001b[0m\u001b[0m\n\u001b[0m\u001b[1;32m     68\u001b[0m     \u001b[0;32mfinally\u001b[0m\u001b[0;34m:\u001b[0m\u001b[0;34m\u001b[0m\u001b[0;34m\u001b[0m\u001b[0m\n\u001b[1;32m     69\u001b[0m       \u001b[0;32mdel\u001b[0m \u001b[0mfiltered_tb\u001b[0m\u001b[0;34m\u001b[0m\u001b[0;34m\u001b[0m\u001b[0m\n",
            "\u001b[0;32m/usr/local/lib/python3.7/dist-packages/tensorflow/python/framework/func_graph.py\u001b[0m in \u001b[0;36mautograph_handler\u001b[0;34m(*args, **kwargs)\u001b[0m\n\u001b[1;32m   1127\u001b[0m           \u001b[0;32mexcept\u001b[0m \u001b[0mException\u001b[0m \u001b[0;32mas\u001b[0m \u001b[0me\u001b[0m\u001b[0;34m:\u001b[0m  \u001b[0;31m# pylint:disable=broad-except\u001b[0m\u001b[0;34m\u001b[0m\u001b[0;34m\u001b[0m\u001b[0m\n\u001b[1;32m   1128\u001b[0m             \u001b[0;32mif\u001b[0m \u001b[0mhasattr\u001b[0m\u001b[0;34m(\u001b[0m\u001b[0me\u001b[0m\u001b[0;34m,\u001b[0m \u001b[0;34m\"ag_error_metadata\"\u001b[0m\u001b[0;34m)\u001b[0m\u001b[0;34m:\u001b[0m\u001b[0;34m\u001b[0m\u001b[0;34m\u001b[0m\u001b[0m\n\u001b[0;32m-> 1129\u001b[0;31m               \u001b[0;32mraise\u001b[0m \u001b[0me\u001b[0m\u001b[0;34m.\u001b[0m\u001b[0mag_error_metadata\u001b[0m\u001b[0;34m.\u001b[0m\u001b[0mto_exception\u001b[0m\u001b[0;34m(\u001b[0m\u001b[0me\u001b[0m\u001b[0;34m)\u001b[0m\u001b[0;34m\u001b[0m\u001b[0;34m\u001b[0m\u001b[0m\n\u001b[0m\u001b[1;32m   1130\u001b[0m             \u001b[0;32melse\u001b[0m\u001b[0;34m:\u001b[0m\u001b[0;34m\u001b[0m\u001b[0;34m\u001b[0m\u001b[0m\n\u001b[1;32m   1131\u001b[0m               \u001b[0;32mraise\u001b[0m\u001b[0;34m\u001b[0m\u001b[0;34m\u001b[0m\u001b[0m\n",
            "\u001b[0;31mValueError\u001b[0m: in user code:\n\n    File \"/usr/local/lib/python3.7/dist-packages/keras/engine/training.py\", line 878, in train_function  *\n        return step_function(self, iterator)\n    File \"/usr/local/lib/python3.7/dist-packages/keras/engine/training.py\", line 867, in step_function  **\n        outputs = model.distribute_strategy.run(run_step, args=(data,))\n    File \"/usr/local/lib/python3.7/dist-packages/keras/engine/training.py\", line 860, in run_step  **\n        outputs = model.train_step(data)\n    File \"/usr/local/lib/python3.7/dist-packages/keras/engine/training.py\", line 808, in train_step\n        y_pred = self(x, training=True)\n    File \"/usr/local/lib/python3.7/dist-packages/keras/utils/traceback_utils.py\", line 67, in error_handler\n        raise e.with_traceback(filtered_tb) from None\n\n    ValueError: Exception encountered when calling layer \"caser_2\" (type Caser).\n    \n    in user code:\n    \n        File \"<ipython-input-11-986d8efac734>\", line 52, in call  *\n            seq_model_L = tf.keras.Sequential([\n        File \"/usr/local/lib/python3.7/dist-packages/keras/utils/traceback_utils.py\", line 67, in error_handler\n            raise e.with_traceback(filtered_tb) from None\n    \n        ValueError: tf.function only supports singleton tf.Variables created on the first call. Make sure the tf.Variable is only created once or created outside tf.function. See https://www.tensorflow.org/guide/function#creating_tfvariables for more information.\n    \n    \n    Call arguments received:\n      • user_id=tf.Tensor(shape=(None, 1), dtype=float32)\n      • seq=tf.Tensor(shape=(None, 5), dtype=float64)\n      • item_id=tf.Tensor(shape=(None, 1), dtype=float64)\n"
          ]
        }
      ],
      "source": [
        "caser_model.fit(([tf.constant(pos_1),tf.constant(big_arr),\n",
        "                  tf.constant(pos_3)]),\n",
        "                 tf.constant(pos_4),\n",
        "                epochs =10,\n",
        "                # batch_size = 5\n",
        "                )"
      ]
    },
    {
      "cell_type": "code",
      "execution_count": null,
      "metadata": {
        "id": "oH_C5UJLjOco"
      },
      "outputs": [],
      "source": [
        ""
      ]
    }
  ],
  "metadata": {
    "colab": {
      "collapsed_sections": [],
      "name": "convolutional_recommender_2.ipynb",
      "provenance": [],
      "authorship_tag": "ABX9TyPv4v4JKD3QDoz9gQ/VTN3G",
      "include_colab_link": true
    },
    "kernelspec": {
      "display_name": "Python 3",
      "name": "python3"
    },
    "language_info": {
      "name": "python"
    }
  },
  "nbformat": 4,
  "nbformat_minor": 0
}